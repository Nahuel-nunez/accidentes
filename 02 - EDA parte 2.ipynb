{
 "cells": [
  {
   "cell_type": "code",
   "execution_count": null,
   "metadata": {},
   "outputs": [],
   "source": [
    "import numpy as np\n",
    "import pandas as pd\n",
    "import matplotlib.pyplot as plt\n",
    "import seaborn as sns\n",
    "import plotly_express as px\n",
    "from plotly.subplots import make_subplots\n",
    "import plotly.graph_objects as go"
   ]
  },
  {
   "cell_type": "code",
   "execution_count": null,
   "metadata": {},
   "outputs": [],
   "source": [
    "df = pd.read_pickle('accidentes.pkl')"
   ]
  },
  {
   "cell_type": "code",
   "execution_count": null,
   "metadata": {},
   "outputs": [],
   "source": [
    "df['dia_semana'] = df['fecha'].dt.dayofweek\n",
    "df['dia_mes'] = df['fecha'].dt.day\n",
    "df['mes'] = df['fecha'].dt.month\n",
    "df['año'] = df['fecha'].dt.year"
   ]
  },
  {
   "cell_type": "code",
   "execution_count": null,
   "metadata": {},
   "outputs": [],
   "source": [
    "df['rango_horario'] = pd.to_timedelta(df['rango_horario'])\n",
    "df['hora'] = df['rango_horario'].dt.components['hours']\n",
    "df.loc[df['hora'] == 0, 'hora'] = 24"
   ]
  },
  {
   "cell_type": "markdown",
   "metadata": {},
   "source": [
    "- **accidente_id:** Identificador único para cada accidente.\n",
    "- **fecha_completa:** Fecha y hora completa del accidente.\n",
    "- **fecha:** Fecha del accidente.\n",
    "- **rango_horario:** Fango horario en el que ocurrió el accidente.\n",
    "- **localizacion:** Ubicación específica del accidente.\n",
    "- **numero:** Número asociado con la ubicación del accidente.\n",
    "- **distrito:** Distrito donde ocurrió el accidente.\n",
    "- **coordenada_x:** Coordenada X de la ubicación del accidente.\n",
    "- **coordenada_y:** Coordenada Y de la ubicación del accidente.\n",
    "- **condicion:** Condiciones en las que ocurrió el accidente (favorable o desfavorable).\n",
    "- **lesividad:** Nivel de lesión resultante del accidente.\n",
    "- **persona_implicada:** Persona implicada en el accidente (conductor, pasajero, etc.).\n",
    "- **positiva_alcohol:** Si la persona implicada dio positivo por alcohol.\n",
    "- **positiva_droga:** Si la persona implicada dio positivo por drogas.\n",
    "- **rango_edad:** Rango de edad de la persona implicada.\n",
    "- **sexo:** Sexo de la persona implicada.\n",
    "- **tipo_accidente:** Tipo de accidente (colisión doble, colisión múltiple, etc.).\n",
    "- **tipo_vehiculo:** Tipo de vehículo involucrado en el accidente.\n",
    "- **victimas:** Número de víctimas involucradas en el accidente."
   ]
  },
  {
   "cell_type": "code",
   "execution_count": null,
   "metadata": {},
   "outputs": [],
   "source": [
    "positivo_alcohol_edad = df[df[\"positiva_alcohol\"] == 1].groupby([\"rango_edad\"]).size().reset_index(name=\"numero_positivos\")\n",
    "positivo_alcohol_edad = positivo_alcohol_edad.sort_values(by='numero_positivos', ascending=False)\n",
    "positivo_alcohol_edad"
   ]
  },
  {
   "cell_type": "code",
   "execution_count": null,
   "metadata": {},
   "outputs": [],
   "source": [
    "fig = px.bar(data_frame     = positivo_alcohol_edad,\n",
    "             x              = \"rango_edad\",\n",
    "             y              = \"numero_positivos\",\n",
    "             opacity        = 0.5,\n",
    "             title          = \"Nº de positivos en alcohol por rangos de edad\",\n",
    "             height         = 700,\n",
    "             color_discrete_sequence=['olivedrab']\n",
    "            )\n",
    "fig.update_layout(xaxis={'title'   : 'Rangos',\n",
    "                         'tickmode': 'array', \n",
    "                         'tickvals': [4, 5, 6, 7, 8, 9, 10, 11, 12, 13, 14, 15, 16, 17], \n",
    "                         'ticktext': [\"15-17\", \"18-20\", \"21-24\", \"25-29\", \"30-34\", \"35-39\", \"40-44\", \"45-49\", \"50-54\", \"55-59\", \"60-64\", \"65-69\", \"70-74\", \"+74\"]},\n",
    "                  title_x=0.5)\n",
    "\n",
    "fig.show()"
   ]
  },
  {
   "cell_type": "code",
   "execution_count": null,
   "metadata": {},
   "outputs": [],
   "source": [
    "# Cuando empieza a haber registros de alcohol y drogas, a contemplarse esa variable \n",
    "df_drogas_alcohol= df[[\"accidente_id\", \"año\", \"positiva_droga\", \"positiva_alcohol\", \"dia_semana\", \"rango_horario\", \"sexo\"]]\n",
    "df_drogas_alcohol = df_drogas_alcohol[df_drogas_alcohol['año'] >= 2019]\n",
    "\n",
    "df_drogas_alcohol"
   ]
  },
  {
   "cell_type": "code",
   "execution_count": null,
   "metadata": {},
   "outputs": [],
   "source": [
    "distritos = df['distrito'].unique()\n",
    "\n",
    "distritos"
   ]
  },
  {
   "cell_type": "code",
   "execution_count": null,
   "metadata": {},
   "outputs": [],
   "source": [
    "distritos = df.groupby([df['distrito'], df['fecha'].dt.year])['accidente_id'].nunique().reset_index(name='count')\n",
    "\n",
    "# Bucle para visualizar la accidentalidad por año y distrito\n",
    "for distrito in df['distrito'].unique()[:-1]:\n",
    "    distrito_data = distritos[distritos['distrito'] == distrito].sort_values(by='count', ascending=False)\n",
    "    plt.figure(figsize=(10, 6))\n",
    "    sns.barplot(y='fecha', x='count', data=distrito_data, orient='h', order=distrito_data.sort_values('count', ascending=False)['fecha'], palette='viridis')\n",
    "    plt.title(f'Cantidad de accidentes por año en el distrito {distrito.capitalize()}')\n",
    "    plt.xlabel('Año')\n",
    "    plt.ylabel('Cantidad de accidentes')\n",
    "    plt.show()"
   ]
  },
  {
   "cell_type": "code",
   "execution_count": null,
   "metadata": {},
   "outputs": [],
   "source": [
    "condiciones = df.groupby('condicion')['accidente_id'].nunique().reset_index().sort_values(by= 'accidente_id', ascending = False)\n",
    "\n",
    "plt.figure(figsize=(12, 6))\n",
    "sns.barplot(x = 'accidente_id', y = 'condicion', data = condiciones, hue = 'condicion', palette = 'viridis')\n",
    "\n",
    "plt.title('Cantidad de accidentes por condiciones')\n",
    "plt.xlabel('condiciones')\n",
    "plt.ylabel('Cantidad de accidentes')\n",
    "plt.tight_layout()\n",
    "\n",
    "plt.show()"
   ]
  },
  {
   "cell_type": "code",
   "execution_count": null,
   "metadata": {},
   "outputs": [],
   "source": [
    "grupo_persona_sexo = df.groupby(['persona_implicada', 'sexo'])['accidente_id'].nunique().reset_index(name = 'count')\n",
    "plt.figure(figsize = (10, 6))\n",
    "sns.barplot(data = grupo_persona_sexo, x ='persona_implicada', y='count', hue = 'sexo')\n",
    "plt.title('Distribución de género por persona implicada en accidentes')\n",
    "plt.xlabel('Persona Implicada')\n",
    "plt.ylabel('Número de accidentes')\n",
    "plt.legend(title='Género')\n",
    "plt.show()"
   ]
  },
  {
   "cell_type": "code",
   "execution_count": null,
   "metadata": {},
   "outputs": [],
   "source": [
    "lesividad = df.groupby('lesividad')['accidente_id'].nunique().reset_index()\n",
    "\n",
    "plt.figure(figsize=(15, 6))\n",
    "ax = sns.barplot(y=lesividad['lesividad'], x=lesividad['accidente_id'], color='red')\n",
    "\n",
    "# Agregar el número en cada barra\n",
    "for index, value in enumerate(lesividad['accidente_id']):\n",
    "    ax.text(value, index, str(value), color='black', ha=\"left\")\n",
    "\n",
    "plt.title('Número de accidentes por lesividad')\n",
    "plt.xlabel('Número de accidentes')\n",
    "plt.ylabel('Tipos de lesiones')\n",
    "plt.tight_layout()\n",
    "plt.show()"
   ]
  },
  {
   "cell_type": "code",
   "execution_count": null,
   "metadata": {},
   "outputs": [],
   "source": [
    "diccionario_edades = {\n",
    "         1 : 'menor de 5 años',\n",
    "         1 : 'de 0 a 5 años',\n",
    "         2 : 'de 06 a 9 años',\n",
    "         3 : 'de 10 a 14 años',\n",
    "         4 : 'de 15 a 17 años',\n",
    "         5 : 'de 18 a 20 años',\n",
    "         6 : 'de 21 a 24 años',\n",
    "         7 : 'de 25 a 29 años',\n",
    "         8 : 'de 30 a 34 años',\n",
    "         8 : 'de 30 a 34 anos',\n",
    "         9 : 'de 35 a 39 años',\n",
    "        10 : 'de 40 a 44 años',\n",
    "        11 : 'de 45 a 49 años',\n",
    "        12 : 'de 50 a 54 años',\n",
    "        13 : 'de 55 a 59 años',\n",
    "        14 : 'de 60 a 64 años',\n",
    "        15 : 'de 65 a 69 años',\n",
    "        16 : 'de 70 a 74 años',\n",
    "        17 : 'mas de 74 años',\n",
    "        17 : 'de mas de 74 años ',\n",
    "        17 : 'de más de 74 años',\n",
    "    np.nan : 'desconocido',\n",
    "    np.nan : 'desconocida'\n",
    "}\n",
    "\n",
    "df['rango_edad'] = df['rango_edad'].map(diccionario_edades)\n",
    "accidentes_por_edad = df.groupby('rango_edad')['accidente_id'].nunique()\n",
    "# Crear el gráfico de barras\n",
    "plt.figure(figsize=(10, 6))\n",
    "accidentes_por_edad.plot(kind='barh')\n",
    "plt.title('Cantidad de Accidentes por Rango de Edad')\n",
    "plt.xlabel('Rango de Edad')\n",
    "plt.ylabel('Cantidad de Accidentes')\n",
    "\n",
    "plt.show()"
   ]
  },
  {
   "cell_type": "code",
   "execution_count": null,
   "metadata": {},
   "outputs": [],
   "source": [
    "accidentes_por_edad_sexo = df.groupby(['rango_edad', 'sexo'])['accidente_id'].count().unstack()\n",
    "plt.figure(figsize = (10, 6))\n",
    "accidentes_por_edad_sexo.plot(kind = 'barh', color = ['skyblue', 'pink'], figsize = (10,6))\n",
    "plt.title('Cantidad de Accidentes por Rango de Edad y Sexo')\n",
    "plt.xlabel('Cantidad de Accidentes')\n",
    "plt.ylabel('Rango de Edad')\n",
    "plt.grid(axis = 'x', linestyle = '--', alpha = 0.7)\n",
    "plt.tight_layout()"
   ]
  },
  {
   "cell_type": "code",
   "execution_count": null,
   "metadata": {},
   "outputs": [],
   "source": [
    "df.groupby([\"fecha\", \"accidente_id\", \"distrito\"]).size().reset_index(name='num_accidentes')"
   ]
  },
  {
   "cell_type": "markdown",
   "metadata": {},
   "source": [
    "# Conclusiones\n",
    "\n",
    "Más allá del número de accidentes, los datos no aportan unos datos significativos para el estudio de predicciones de accidentes.\n",
    "A simple vista podemos ver que sería en Octubre el mes con mayor frecuencia de accidentes, junto con los viernes, y las horas puntas.\n",
    "\n",
    "Por otro lado también se observa una accidentalidad meno en distritos de sesgo soscial menor, lo que deja a entender queno se notifica adecuadamente los partes.\n",
    "\n",
    "Con respecto a la edad de los involucrados en los accidentes, predominan los que entran dentro del rango de edad para la conducción, sobretodo en varones."
   ]
  }
 ],
 "metadata": {
  "kernelspec": {
   "display_name": "Python 3",
   "language": "python",
   "name": "python3"
  },
  "language_info": {
   "name": "python",
   "version": "3.11.8"
  }
 },
 "nbformat": 4,
 "nbformat_minor": 2
}
