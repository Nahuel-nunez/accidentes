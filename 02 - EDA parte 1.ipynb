{
 "cells": [
  {
   "cell_type": "code",
   "execution_count": null,
   "metadata": {},
   "outputs": [],
   "source": [
    "import numpy as np\n",
    "import pandas as pd\n",
    "import matplotlib.pyplot as plt\n",
    "import seaborn as sns\n",
    "import plotly_express as px\n",
    "from plotly.subplots import make_subplots\n",
    "import plotly.graph_objects as go"
   ]
  },
  {
   "cell_type": "code",
   "execution_count": null,
   "metadata": {},
   "outputs": [],
   "source": [
    "df = pd.read_pickle('accidentes.pkl')"
   ]
  },
  {
   "cell_type": "code",
   "execution_count": null,
   "metadata": {},
   "outputs": [],
   "source": [
    "df['dia_semana'] = df['fecha'].dt.dayofweek\n",
    "df['dia_mes'] = df['fecha'].dt.day\n",
    "df['mes'] = df['fecha'].dt.month\n",
    "df['año'] = df['fecha'].dt.year"
   ]
  },
  {
   "cell_type": "code",
   "execution_count": null,
   "metadata": {},
   "outputs": [],
   "source": [
    "df['rango_horario'] = pd.to_timedelta(df['rango_horario'])\n",
    "df['hora'] = df['rango_horario'].dt.components['hours']\n",
    "df.loc[df['hora'] == 0, 'hora'] = 24"
   ]
  },
  {
   "cell_type": "code",
   "execution_count": null,
   "metadata": {},
   "outputs": [],
   "source": [
    "df.head()"
   ]
  },
  {
   "cell_type": "code",
   "execution_count": null,
   "metadata": {},
   "outputs": [],
   "source": [
    "df.shape"
   ]
  },
  {
   "cell_type": "markdown",
   "metadata": {},
   "source": [
    "- **accidente_id:** Identificador único para cada accidente.\n",
    "- **fecha_completa:** Fecha y hora completa del accidente.\n",
    "- **fecha:** Fecha del accidente.\n",
    "- **rango_horario:** Fango horario en el que ocurrió el accidente.\n",
    "- **localizacion:** Ubicación específica del accidente.\n",
    "- **numero:** Número asociado con la ubicación del accidente.\n",
    "- **distrito:** Distrito donde ocurrió el accidente.\n",
    "- **coordenada_x:** Coordenada X de la ubicación del accidente.\n",
    "- **coordenada_y:** Coordenada Y de la ubicación del accidente.\n",
    "- **condicion:** Condiciones en las que ocurrió el accidente (favorable o desfavorable).\n",
    "- **lesividad:** Nivel de lesión resultante del accidente.\n",
    "- **persona_implicada:** Persona implicada en el accidente (conductor, pasajero, etc.).\n",
    "- **positiva_alcohol:** Si la persona implicada dio positivo por alcohol.\n",
    "- **positiva_droga:** Si la persona implicada dio positivo por drogas.\n",
    "- **rango_edad:** Rango de edad de la persona implicada.\n",
    "- **sexo:** Sexo de la persona implicada.\n",
    "- **tipo_accidente:** Tipo de accidente (colisión doble, colisión múltiple, etc.).\n",
    "- **tipo_vehiculo:** Tipo de vehículo involucrado en el accidente.\n",
    "- **victimas:** Número de víctimas involucradas en el accidente."
   ]
  },
  {
   "cell_type": "code",
   "execution_count": null,
   "metadata": {},
   "outputs": [],
   "source": [
    "df.columns"
   ]
  },
  {
   "cell_type": "code",
   "execution_count": null,
   "metadata": {},
   "outputs": [],
   "source": [
    "df.info()"
   ]
  },
  {
   "cell_type": "code",
   "execution_count": null,
   "metadata": {},
   "outputs": [],
   "source": [
    "fig = px.imshow(df.isna(), \n",
    "                labels = dict(x = \"Columnas\", y = \"Filas\"), \n",
    "                x      = df.columns, \n",
    "                y      = df.index)\n",
    "\n",
    "fig.update_layout(\n",
    "title = 'Visualización de NaNs')\n",
    "\n",
    "fig.show()"
   ]
  },
  {
   "cell_type": "markdown",
   "metadata": {},
   "source": [
    "Se observsa una gran cantidad de valores Nan's en algunas de las columnas debido a la heterogeneidad de la recogida de muestras entre el rango 2010-2018 y 2019-2024."
   ]
  },
  {
   "cell_type": "code",
   "execution_count": null,
   "metadata": {},
   "outputs": [],
   "source": [
    "df.describe()"
   ]
  },
  {
   "cell_type": "markdown",
   "metadata": {},
   "source": [
    "# ACCIDENTE ID "
   ]
  },
  {
   "cell_type": "code",
   "execution_count": null,
   "metadata": {},
   "outputs": [],
   "source": [
    "df[\"accidente_id\"].nunique()"
   ]
  },
  {
   "cell_type": "code",
   "execution_count": null,
   "metadata": {},
   "outputs": [],
   "source": [
    "n_accidentes_distrito_año = df.groupby(['distrito', 'año'])['accidente_id'].nunique().reset_index()\n",
    "n_accidentes_distrito_año"
   ]
  },
  {
   "cell_type": "code",
   "execution_count": null,
   "metadata": {},
   "outputs": [],
   "source": [
    "n_total_partes_distrito_año = df.groupby(['distrito', 'año'])['accidente_id'].size().reset_index(name='total_accidentes')\n",
    "n_total_partes_distrito_año = pd.DataFrame(n_total_partes_distrito_año)"
   ]
  },
  {
   "cell_type": "code",
   "execution_count": null,
   "metadata": {},
   "outputs": [],
   "source": [
    "fig = px.bar(n_total_partes_distrito_año,\n",
    "             x      = 'distrito',\n",
    "             y      = 'total_accidentes',  \n",
    "             color  = 'año',\n",
    "             title  = 'Número total de partes por año por distritos',\n",
    "             height = 700\n",
    "            )\n",
    "fig.update_layout(xaxis = {'categoryorder' : 'total descending'}, title_x=0.5)\n",
    "fig.show()"
   ]
  },
  {
   "cell_type": "markdown",
   "metadata": {},
   "source": [
    "El número de accidentes es muy bajo en algunos distritos, como Vicalvaro o Barajas, lo cual, hace pensar que quizás no se reportan de forma adecuada todos los accidentes."
   ]
  },
  {
   "cell_type": "code",
   "execution_count": null,
   "metadata": {},
   "outputs": [],
   "source": [
    "numero_accidentes_año = df.groupby(['año'])['accidente_id'].nunique().reset_index()\n",
    "numero_accidentes_año"
   ]
  },
  {
   "cell_type": "code",
   "execution_count": null,
   "metadata": {},
   "outputs": [],
   "source": [
    "fig= px.bar(data_frame = numero_accidentes_año,\n",
    "       x          = \"año\",\n",
    "       y          = \"accidente_id\",\n",
    "       opacity     = 0.5,\n",
    "       title = \"Nº total de accidentes por año\",\n",
    "       height = 700,\n",
    "       color_discrete_sequence= ['blue']\n",
    "      )\n",
    "fig.update_layout(xaxis = {'categoryorder' : 'total descending'}, title_x=0.5)"
   ]
  },
  {
   "cell_type": "markdown",
   "metadata": {},
   "source": [
    "Se observa dos patrones de comportamiento diferentes en la accidentalidad entre los rangos 2010-2018 y 2019-2024.\n",
    "- Puede que en el segundo rango se comenzara a recoger los detos de diferente manera\n",
    "- En el 2020 se ve un decrecimiento, potencialmente debido al cofinamiento durante la pandemia.\n",
    "- Los datos del 2024 (año actual) son muy escasos, por eso su baja accidentalidad"
   ]
  },
  {
   "cell_type": "code",
   "execution_count": null,
   "metadata": {},
   "outputs": [],
   "source": [
    "n_accidentes_dia_semana = df.groupby(['dia_semana'])['accidente_id'].nunique().reset_index()\n",
    "n_accidentes_dia_semana"
   ]
  },
  {
   "cell_type": "code",
   "execution_count": null,
   "metadata": {},
   "outputs": [],
   "source": [
    "fig = px.bar(data_frame=n_accidentes_dia_semana,\n",
    "             x        =  \"dia_semana\",\n",
    "             y        =  \"accidente_id\",\n",
    "             opacity  =  0.5,\n",
    "             title    =  \"Nº total de accidentes por día de la semana\",\n",
    "             height   =  700,\n",
    "             color_discrete_sequence=['magenta']\n",
    "            )\n",
    "\n",
    "fig.update_layout(xaxis={'title': 'Día de la semana', \n",
    "                         'tickmode': 'array', \n",
    "                         'tickvals': [0, 1, 2, 3, 4, 5, 6], \n",
    "                         'ticktext': ['lunes', 'martes', 'miércoles', 'jueves', 'viernes', 'sábado', 'domingo']},\n",
    "                  title_x=0.5)\n",
    "\n",
    "fig.show()"
   ]
  },
  {
   "cell_type": "markdown",
   "metadata": {},
   "source": [
    "Se observa una mayor accidentalidad los viernes y una menor los domingos. Hecho lógicos, los viernes las personas salen de fiesta y los domingos hay menos tráfico."
   ]
  },
  {
   "cell_type": "code",
   "execution_count": null,
   "metadata": {},
   "outputs": [],
   "source": [
    "n_accidentes_hora = df.groupby(['hora'])['accidente_id'].nunique().reset_index(name = 'num_accidentes')\n",
    "n_accidentes_hora"
   ]
  },
  {
   "cell_type": "code",
   "execution_count": null,
   "metadata": {},
   "outputs": [],
   "source": [
    "fig= px.bar(data_frame = n_accidentes_hora,\n",
    "            x          = \"hora\",\n",
    "            y          = \"num_accidentes\",\n",
    "            opacity    = 0.5,\n",
    "            title      = \"Nº total de accidentes por hora\",\n",
    "            height     = 700,\n",
    "            color_discrete_sequence = ['salmon'])\n",
    "\n",
    "fig.update_layout(xaxis={'title'    : 'Hora', \n",
    "                         'tickmode' : 'array', \n",
    "                         'tickvals' : list(range(25)), \n",
    "                         'ticktext' : [f\"{hour:02d}:00\" for hour in range(25)]},\n",
    "                  title_x=0.5)"
   ]
  },
  {
   "cell_type": "markdown",
   "metadata": {},
   "source": [
    "Datos no muy relevantes, muestras efectivamente que a altas horas de la madrugada es cuando occuren menos accidentes, y en hora punta es cuando ocurren más."
   ]
  },
  {
   "cell_type": "code",
   "execution_count": null,
   "metadata": {},
   "outputs": [],
   "source": [
    "n_accidentes_mes = df.groupby(['mes'])['accidente_id'].nunique().reset_index()\n",
    "n_accidentes_mes"
   ]
  },
  {
   "cell_type": "code",
   "execution_count": null,
   "metadata": {},
   "outputs": [],
   "source": [
    "fig = px.bar(data_frame     =  n_accidentes_mes,\n",
    "             x              =  \"mes\",\n",
    "             y              =  \"accidente_id\",\n",
    "             opacity        =  0.5,\n",
    "             title          =  \"Nº total de accidentes por mes\",\n",
    "             height         =   700,\n",
    "             color_discrete_sequence = ['orange']\n",
    "            )\n",
    "\n",
    "fig.update_layout(xaxis={'title': 'Mes',\n",
    "                         'tickmode': 'array',\n",
    "                         'tickvals': [1, 2, 3, 4, 5, 6, 7, 8, 9, 10, 11, 12],\n",
    "                         'ticktext': [\"enero\", \"febrero\", \"marzo\", \"abril\", \"mayo\", \"junio\", \"julio\", \"agosto\", \"septiembre\", \"octubre\", \"noviembre\", \"diciembre\"]},\n",
    "                  title_x=0.5)\n",
    "\n",
    "fig.show()"
   ]
  },
  {
   "cell_type": "markdown",
   "metadata": {},
   "source": [
    "La accidentalidad posee cierta homogeneidad en los meses del año, a excepción de Agosto, lo cual, tiene sentido al ser mes vacacional y Madrid estará algo más vacia."
   ]
  },
  {
   "cell_type": "code",
   "execution_count": null,
   "metadata": {},
   "outputs": [],
   "source": [
    "# Días del mes con mayor número de accidentes\n",
    "\n",
    "n_accidentes_dia_mes = df.groupby(['mes', \"dia_mes\"])['accidente_id'].nunique().reset_index().sort_values(by=['accidente_id'], ascending=False)\n",
    "top_15_accidentes_dia_mes= n_accidentes_dia_mes.head(15)\n",
    "top_15_accidentes_dia_mes"
   ]
  },
  {
   "cell_type": "code",
   "execution_count": null,
   "metadata": {},
   "outputs": [],
   "source": [
    "top_15_accidentes_dia_mes['fecha'] = top_15_accidentes_dia_mes['dia_mes'].astype(str) + '/' + top_15_accidentes_dia_mes['mes'].astype(str)\n",
    "top_15_accidentes_dia_mes"
   ]
  },
  {
   "cell_type": "code",
   "execution_count": null,
   "metadata": {},
   "outputs": [],
   "source": [
    "fig = px.bar(data_frame  =  top_15_accidentes_dia_mes,\n",
    "             x           =  \"fecha\",\n",
    "             y           =  \"accidente_id\",\n",
    "             opacity     =  0.7,\n",
    "             title       =  \"15 fechas con más accidentes\",\n",
    "             height      =  700,\n",
    "             color_discrete_sequence=['plum'])\n",
    "\n",
    "fig.update_layout(title_x=0.5)\n",
    "fig.show()"
   ]
  },
  {
   "cell_type": "code",
   "execution_count": null,
   "metadata": {},
   "outputs": [],
   "source": [
    "n_total_partes_distrito_año = df.groupby(['distrito', 'año'])['accidente_id'].nunique().reset_index(name='total_accidentes')\n",
    "n_total_partes_distrito_año = pd.DataFrame(n_total_partes_distrito_año)\n",
    "n_total_partes_distrito_año"
   ]
  },
  {
   "cell_type": "code",
   "execution_count": null,
   "metadata": {},
   "outputs": [],
   "source": [
    "# Cambiamos año a string para poder iterar sobre los años en el gráfico\n",
    "\n",
    "n_accidentes_distrito_año[\"año\"] = n_accidentes_distrito_año[\"año\"].astype(str)"
   ]
  },
  {
   "cell_type": "code",
   "execution_count": null,
   "metadata": {},
   "outputs": [],
   "source": [
    "fig = px.bar(n_accidentes_distrito_año,\n",
    "             x      = 'distrito',\n",
    "             y      = 'accidente_id',  \n",
    "             color  = 'año',\n",
    "             title  = 'Número de accidentes por año por distritos',\n",
    "             height = 700\n",
    "            )\n",
    "fig.update_layout(xaxis = {'categoryorder' : 'total descending'}, title_x=0.5)\n",
    "fig.show()"
   ]
  },
  {
   "cell_type": "markdown",
   "metadata": {},
   "source": [
    "Mismo gráfico que el de más arriba, no aporta más información. Solo nos permite observar los diferentes rangos de accidentalidad por fechas y distritos."
   ]
  },
  {
   "cell_type": "markdown",
   "metadata": {},
   "source": [
    "# DROGAS Y ALCOHOL"
   ]
  },
  {
   "cell_type": "code",
   "execution_count": null,
   "metadata": {},
   "outputs": [],
   "source": [
    "df.columns"
   ]
  },
  {
   "cell_type": "code",
   "execution_count": null,
   "metadata": {},
   "outputs": [],
   "source": [
    "nan_drogas = df[\"positiva_droga\"].isna().sum()\n",
    "realizado_test_droga = df.shape[0] - df[\"positiva_droga\"].isna().sum()\n",
    "\n",
    "print(\"Número de NaN en drogas:\", nan_drogas)\n",
    "print(\"Número de veces que se realizó el test de drogas:\", realizado_test_droga)"
   ]
  },
  {
   "cell_type": "code",
   "execution_count": null,
   "metadata": {},
   "outputs": [],
   "source": [
    "df[\"positiva_droga\"].unique()"
   ]
  },
  {
   "cell_type": "code",
   "execution_count": null,
   "metadata": {},
   "outputs": [],
   "source": [
    "df[\"positiva_alcohol\"].unique()"
   ]
  },
  {
   "cell_type": "markdown",
   "metadata": {},
   "source": [
    "Se empezó a registrar desde 2019 hasta 2024 los positivos"
   ]
  },
  {
   "cell_type": "code",
   "execution_count": null,
   "metadata": {},
   "outputs": [],
   "source": [
    "# los valores totales de positivos, negativos y nan en alcohol teniendo en cuenta todos los años\n",
    "\n",
    "n_valores_alcohol_totales = df[\"positiva_alcohol\"].value_counts(dropna=False)\n",
    "n_valores_alcohol_totales"
   ]
  },
  {
   "cell_type": "code",
   "execution_count": null,
   "metadata": {},
   "outputs": [],
   "source": [
    "# Cuando empieza a haber registros de alcohol y drogas, a contemplarse esa variable \n",
    "\n",
    "df_con_alcohol = df[df['año'] >= 2019]\n",
    "numero_valores_alcohol = df_con_alcohol[\"positiva_alcohol\"].value_counts(dropna=False)\n",
    "numero_valores_alcohol"
   ]
  },
  {
   "cell_type": "code",
   "execution_count": null,
   "metadata": {},
   "outputs": [],
   "source": [
    "fig = make_subplots(rows=1, cols=2, specs=[[{'type':'pie'}, {'type':'pie'}]], subplot_titles=(\"Antes del registro\", \"Desde que hay registros\"))\n",
    "\n",
    "fig.add_trace(\n",
    "    go.Pie(values=n_valores_alcohol_totales, labels=n_valores_alcohol_totales.index, name=\"Antes del registro\"),\n",
    "    row=1, col=1)\n",
    "\n",
    "fig.add_trace(\n",
    "    go.Pie(values=numero_valores_alcohol, labels=numero_valores_alcohol.index, name=\"Desde que hay registros\", rotation = 90),\n",
    "    row=1, col=2)\n",
    "\n",
    "fig.update_layout(title=\"Porcentajes de positivos en alcohol\", title_x=0.5)\n",
    "fig.show()\n"
   ]
  },
  {
   "cell_type": "code",
   "execution_count": null,
   "metadata": {},
   "outputs": [],
   "source": [
    "positivo_droga_sexo = df[df[\"positiva_droga\"] == 1].groupby([\"sexo\"]).size()\n",
    "positivo_droga_sexo"
   ]
  },
  {
   "cell_type": "code",
   "execution_count": null,
   "metadata": {},
   "outputs": [],
   "source": [
    "positivo_alcohol_sexo = df[df[\"positiva_alcohol\"] == 1].groupby([\"sexo\"]).size()\n",
    "positivo_alcohol_sexo"
   ]
  },
  {
   "cell_type": "code",
   "execution_count": null,
   "metadata": {},
   "outputs": [],
   "source": [
    "fig = make_subplots(rows=1, cols=2, specs=[[{'type':'pie'}, {'type':'pie'}]], subplot_titles=(\"Droga\", \"Alcohol\"))\n",
    "\n",
    "fig.add_trace(\n",
    "    go.Pie(values=positivo_droga_sexo, labels=positivo_droga_sexo.index, name=\"Droga\"),\n",
    "    row=1, col=1)\n",
    "\n",
    "fig.add_trace(\n",
    "    go.Pie(values=positivo_alcohol_sexo, labels=positivo_alcohol_sexo.index, name=\"Alcohol\"),\n",
    "    row=1, col=2)\n",
    "\n",
    "fig.update_layout(title=\"Porcentajes positivos por sexo\", title_x=0.5)\n",
    "fig.show()\n"
   ]
  }
 ],
 "metadata": {
  "kernelspec": {
   "display_name": "Python 3",
   "language": "python",
   "name": "python3"
  },
  "language_info": {
   "codemirror_mode": {
    "name": "ipython",
    "version": 3
   },
   "file_extension": ".py",
   "mimetype": "text/x-python",
   "name": "python",
   "nbconvert_exporter": "python",
   "pygments_lexer": "ipython3",
   "version": "3.11.8"
  }
 },
 "nbformat": 4,
 "nbformat_minor": 2
}
